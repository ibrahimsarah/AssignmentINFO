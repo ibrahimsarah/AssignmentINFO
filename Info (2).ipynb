{
 "cells": [
  {
   "cell_type": "code",
   "execution_count": 1,
   "id": "75aaa702-ea33-4c01-9783-f9228a5c05b0",
   "metadata": {},
   "outputs": [
    {
     "name": "stdin",
     "output_type": "stream",
     "text": [
      "Enter your username:  sarah \n"
     ]
    },
    {
     "name": "stdout",
     "output_type": "stream",
     "text": [
      "Trying dictionary attack for user: sarah \n",
      "Trying password: 12345\n",
      "Trying password: password\n",
      "Trying password: abcde\n",
      "Success! Password found in dictionary.\n"
     ]
    }
   ],
   "source": [
    "import itertools\n",
    "\n",
    "# Hardcoded password for the program\n",
    "correct_password = \"abcde\"\n",
    "\n",
    "# Predefined dictionary of passwords\n",
    "dictionary = [\"12345\", \"password\", \"abcde\", \"letmein\", \"qwerty\", \"hello\"]\n",
    "\n",
    "def dictionary_attack(username):\n",
    "    print(f\"Trying dictionary attack for user: {username}\")\n",
    "    for password in dictionary:\n",
    "        print(f\"Trying password: {password}\")\n",
    "        if password == correct_password:\n",
    "            print(\"Success! Password found in dictionary.\")\n",
    "            return True\n",
    "    print(\"Failed to find password using dictionary.\")\n",
    "    return False\n",
    "\n",
    "def brute_force_attack():\n",
    "    print(\"Starting brute force attack...\")\n",
    "    chars = 'abcdefghijklmnopqrstuvwxyzABCDEFGHIJKLMNOPQRSTUVWXYZ'\n",
    "    for password_tuple in itertools.product(chars, repeat=5):\n",
    "        password = ''.join(password_tuple)\n",
    "        print(f\"Trying password: {password}\")\n",
    "        if password == correct_password:\n",
    "            print(\"Success! Password found using brute force.\")\n",
    "            return True\n",
    "    print(\"Failed to find password using brute force.\")\n",
    "    return False\n",
    "\n",
    "def main():\n",
    "    username = input(\"Enter your username: \")\n",
    "    \n",
    "    if not dictionary_attack(username):\n",
    "        brute_force_attack()\n",
    "\n",
    "if __name__ == \"__main__\":\n",
    "    main()"
   ]
  },
  {
   "cell_type": "code",
   "execution_count": null,
   "id": "bc4e665e-cb49-477e-8cf6-f7043bb7fdc8",
   "metadata": {},
   "outputs": [],
   "source": []
  }
 ],
 "metadata": {
  "kernelspec": {
   "display_name": "Python 3 (ipykernel)",
   "language": "python",
   "name": "python3"
  },
  "language_info": {
   "codemirror_mode": {
    "name": "ipython",
    "version": 3
   },
   "file_extension": ".py",
   "mimetype": "text/x-python",
   "name": "python",
   "nbconvert_exporter": "python",
   "pygments_lexer": "ipython3",
   "version": "3.11.7"
  }
 },
 "nbformat": 4,
 "nbformat_minor": 5
}
