{
 "cells": [
  {
   "cell_type": "code",
   "execution_count": 1,
   "id": "a1a7806b-0b69-42ae-b402-d441f12e5c72",
   "metadata": {},
   "outputs": [
    {
     "name": "stdin",
     "output_type": "stream",
     "text": [
      "Enter your username:  sarah\n"
     ]
    },
    {
     "name": "stdout",
     "output_type": "stream",
     "text": [
      "Trying dictionary attack for user: sarah\n",
      "Trying password: 12345\n",
      "Trying password: password\n",
      "Trying password: abcde\n",
      "Success! Password found in dictionary.\n"
     ]
    }
   ],
   "source": [
    "import itertools\n",
    "\n",
    "# Hardcoded password for the program\n",
    "correct_password = \"abcde\"\n",
    "\n",
    "# Predefined dictionary of passwords\n",
    "dictionary = [\"12345\", \"password\", \"abcde\", \"letmein\", \"qwerty\", \"hello\"]\n",
    "\n",
    "def dictionary_attack(username):\n",
    "    print(f\"Trying dictionary attack for user: {username}\")\n",
    "    for password in dictionary:\n",
    "        print(f\"Trying password: {password}\")\n",
    "        if password == correct_password:\n",
    "            print(\"Success! Password found in dictionary.\")\n",
    "            return True\n",
    "    print(\"Failed to find password using dictionary.\")\n",
    "    return False\n",
    "\n",
    "def brute_force_attack():\n",
    "    print(\"Starting brute force attack...\")\n",
    "    chars = 'abcdefghijklmnopqrstuvwxyzABCDEFGHIJKLMNOPQRSTUVWXYZ'\n",
    "    for password_tuple in itertools.product(chars, repeat=5):\n",
    "        password = ''.join(password_tuple)\n",
    "        print(f\"Trying password: {password}\")\n",
    "        if password == correct_password:\n",
    "            print(\"Success! Password found using brute force.\")\n",
    "            return True\n",
    "    print(\"Failed to find password using brute force.\")\n",
    "    return False\n",
    "\n",
    "def main():\n",
    "    username = input(\"Enter your username: \")\n",
    "    \n",
    "    if not dictionary_attack(username):\n",
    "        brute_force_attack()\n",
    "\n",
    "if __name__ == \"__main__\":\n",
    "    main()"
   ]
  },
  {
   "cell_type": "code",
   "execution_count": null,
   "id": "b064463b-76ec-46b0-8f12-58c3382eda6a",
   "metadata": {},
   "outputs": [],
   "source": [
    "import tkinter as tk\n",
    "from tkinter import messagebox\n",
    "import itertools\n",
    "\n",
    "correct_password = \"abcde\"\n",
    "dictionary = [\"12345\", \"password\", \"abcde\", \"letmein\", \"qwerty\", \"hello\"]\n",
    "\n",
    "def dictionary_attack(username):\n",
    "    for password in dictionary:\n",
    "        if password == correct_password:\n",
    "            return True\n",
    "    return False\n",
    "\n",
    "def brute_force_attack():\n",
    "    chars = 'abcdefghijklmnopqrstuvwxyzABCDEFGHIJKLMNOPQRSTUVWXYZ'\n",
    "    for password_tuple in itertools.product(chars, repeat=5):\n",
    "        password = ''.join(password_tuple)\n",
    "        if password == correct_password:\n",
    "            return True\n",
    "    return False\n",
    "\n",
    "def attempt_login():\n",
    "    username = entry_username.get()\n",
    "    if dictionary_attack(username):\n",
    "        messagebox.showinfo(\"Success\", \"Password found in dictionary!\")\n",
    "    else:\n",
    "        if brute_force_attack():\n",
    "            messagebox.showinfo(\"Success\", \"Password found using brute force!\")\n",
    "        else:\n",
    "            messagebox.showerror(\"Failure\", \"Failed to find password.\")\n",
    "\n",
    "# GUI setup\n",
    "root = tk.Tk()\n",
    "root.title(\"Password Cracker\")\n",
    "\n",
    "label_username = tk.Label(root, text=\"Enter your username:\")\n",
    "label_username.pack()\n",
    "\n",
    "entry_username = tk.Entry(root)\n",
    "entry_username.pack()\n",
    "\n",
    "button_login = tk.Button(root, text=\"Attempt Login\", command=attempt_login)\n",
    "button_login.pack()\n",
    "\n",
    "root.mainloop()"
   ]
  },
  {
   "cell_type": "code",
   "execution_count": null,
   "id": "ccb432db-502d-41a8-8f9b-f642faa79d20",
   "metadata": {},
   "outputs": [],
   "source": []
  },
  {
   "cell_type": "code",
   "execution_count": null,
   "id": "3e2ee6bd-d667-47b2-8201-8329c3f59191",
   "metadata": {},
   "outputs": [],
   "source": []
  }
 ],
 "metadata": {
  "kernelspec": {
   "display_name": "Python 3 (ipykernel)",
   "language": "python",
   "name": "python3"
  },
  "language_info": {
   "codemirror_mode": {
    "name": "ipython",
    "version": 3
   },
   "file_extension": ".py",
   "mimetype": "text/x-python",
   "name": "python",
   "nbconvert_exporter": "python",
   "pygments_lexer": "ipython3",
   "version": "3.11.7"
  }
 },
 "nbformat": 4,
 "nbformat_minor": 5
}
